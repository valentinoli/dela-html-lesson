{
 "cells": [
  {
   "cell_type": "code",
   "execution_count": 1,
   "metadata": {},
   "outputs": [],
   "source": [
    "prior_path = 'data/prior.json'\n",
    "ex1_path = 'data/ex1.json'\n",
    "ex2_path = 'data/ex2.json'\n",
    "ex3_path = 'data/ex3.json'"
   ]
  },
  {
   "cell_type": "code",
   "execution_count": 2,
   "metadata": {},
   "outputs": [],
   "source": [
    "import pandas as pd\n",
    "import json, re"
   ]
  },
  {
   "cell_type": "code",
   "execution_count": 3,
   "metadata": {},
   "outputs": [],
   "source": [
    "def load_json(path):\n",
    "    with open(path) as file:\n",
    "        return json.load(file)"
   ]
  },
  {
   "cell_type": "code",
   "execution_count": 4,
   "metadata": {},
   "outputs": [],
   "source": [
    "def get_prior_knowledge(data):\n",
    "    payload = data['payload']\n",
    "    res = {k: v['data']['answersIndex'] for k, v in payload.items()}\n",
    "    return pd.DataFrame(res, index=['q1', 'q2', 'q3', 'q4']).T"
   ]
  },
  {
   "cell_type": "code",
   "execution_count": 5,
   "metadata": {},
   "outputs": [],
   "source": [
    "def get_exercise_results(data):\n",
    "    payload = data['payload']\n",
    "    res = {k: v['data']['code'] for k, v in payload.items()}\n",
    "    return pd.Series(res)"
   ]
  },
  {
   "cell_type": "code",
   "execution_count": 6,
   "metadata": {},
   "outputs": [],
   "source": [
    "prior_dict = load_json(prior_path)\n",
    "prior_knowledge = get_prior_knowledge(prior_dict)"
   ]
  },
  {
   "cell_type": "code",
   "execution_count": 7,
   "metadata": {},
   "outputs": [
    {
     "data": {
      "text/html": [
       "<div>\n",
       "<style scoped>\n",
       "    .dataframe tbody tr th:only-of-type {\n",
       "        vertical-align: middle;\n",
       "    }\n",
       "\n",
       "    .dataframe tbody tr th {\n",
       "        vertical-align: top;\n",
       "    }\n",
       "\n",
       "    .dataframe thead th {\n",
       "        text-align: right;\n",
       "    }\n",
       "</style>\n",
       "<table border=\"1\" class=\"dataframe\">\n",
       "  <thead>\n",
       "    <tr style=\"text-align: right;\">\n",
       "      <th></th>\n",
       "      <th>q1</th>\n",
       "      <th>q2</th>\n",
       "      <th>q3</th>\n",
       "      <th>q4</th>\n",
       "    </tr>\n",
       "  </thead>\n",
       "  <tbody>\n",
       "    <tr>\n",
       "      <td>REGxrT2piXhhm7aj4</td>\n",
       "      <td>1</td>\n",
       "      <td>0</td>\n",
       "      <td>1</td>\n",
       "      <td>0</td>\n",
       "    </tr>\n",
       "    <tr>\n",
       "      <td>cQbQcBnHgWsB72JaP</td>\n",
       "      <td>0</td>\n",
       "      <td>1</td>\n",
       "      <td>0</td>\n",
       "      <td>1</td>\n",
       "    </tr>\n",
       "    <tr>\n",
       "      <td>sY2PHLSsXkPtG4hWy</td>\n",
       "      <td>0</td>\n",
       "      <td>1</td>\n",
       "      <td>0</td>\n",
       "      <td>1</td>\n",
       "    </tr>\n",
       "    <tr>\n",
       "      <td>vrBM9oi4u9kozeFtb</td>\n",
       "      <td>0</td>\n",
       "      <td>1</td>\n",
       "      <td>0</td>\n",
       "      <td>1</td>\n",
       "    </tr>\n",
       "  </tbody>\n",
       "</table>\n",
       "</div>"
      ],
      "text/plain": [
       "                   q1  q2  q3  q4\n",
       "REGxrT2piXhhm7aj4   1   0   1   0\n",
       "cQbQcBnHgWsB72JaP   0   1   0   1\n",
       "sY2PHLSsXkPtG4hWy   0   1   0   1\n",
       "vrBM9oi4u9kozeFtb   0   1   0   1"
      ]
     },
     "execution_count": 7,
     "metadata": {},
     "output_type": "execute_result"
    }
   ],
   "source": [
    "prior_knowledge"
   ]
  },
  {
   "cell_type": "code",
   "execution_count": 8,
   "metadata": {},
   "outputs": [],
   "source": [
    "# html_clean_comments = re.compile(r\"<!--(.*?)-->\")\n",
    "# html_clean_spaces\n",
    "regex_html_comments = r\"<!--(.*?)-->\"\n",
    "regex_html_tags = r\"<\\/?(?:html|head|title|body|section|h[1-6]|p|blockquote|ul|li|a|img)[^<>]*>\"\n",
    "html_cleaned = re.sub(regex_html_comments, \"\", \"<!--sljaæflasjg--><h1 href='sdfljel'>ælsdjfaljfio</h1> <!-- læsfj --> <p>sjklgs<a></a><p>\")\n",
    "html_cleaned = re.sub(regex_html_comments, \"\", \"<!DOCTYPE html> <!-- INSERT YOUR MARKUP BELOW --> <html><header><title>This is title</title></header><body>Hello world</body></html>\")\n",
    "html = re.findall(regex_html_tags, html_cleaned, re.I)\n",
    "html\n",
    "\n",
    "def findElements(text):\n",
    "    regex_html_comments = r\"<!--(.*?)-->\"\n",
    "    regex_html_tags = r\"<\\/?(?:html|head|title|body|section|h[1-6]|p|blockquote|ul|li|a|img)[^<>]*>\"\n",
    "    html_cleaned = re.sub(regex_html_comments, \"\", text)\n",
    "    return re.findall(regex_html_tags, html_cleaned, re.I)\n",
    "\n"
   ]
  },
  {
   "cell_type": "code",
   "execution_count": 9,
   "metadata": {},
   "outputs": [],
   "source": [
    "ex1_dict = load_json(ex1_path)\n",
    "ex1 = get_exercise_results(ex1_dict)"
   ]
  },
  {
   "cell_type": "code",
   "execution_count": 10,
   "metadata": {},
   "outputs": [
    {
     "data": {
      "text/plain": [
       "REGxrT2piXhhm7aj4    <!DOCTYPE html>\\n<!-- INSERT YOUR MARKUP BELOW...\n",
       "cQbQcBnHgWsB72JaP    <!DOCTYPE html>\\n<!-- INSERT YOUR MARKUP BELOW...\n",
       "sY2PHLSsXkPtG4hWy    <!DOCTYPE html>\\n<!-- INSERT YOUR MARKUP BELOW...\n",
       "vrBM9oi4u9kozeFtb    <!DOCTYPE html>\\n<!-- INSERT YOUR MARKUP BELOW...\n",
       "dtype: object"
      ]
     },
     "execution_count": 10,
     "metadata": {},
     "output_type": "execute_result"
    }
   ],
   "source": [
    "ex1"
   ]
  },
  {
   "cell_type": "code",
   "execution_count": 11,
   "metadata": {},
   "outputs": [],
   "source": [
    "# students = json_dict['payload']\n",
    "# for student_id, student_data in students.items():\n",
    "#     print(student_id)"
   ]
  },
  {
   "cell_type": "code",
   "execution_count": 12,
   "metadata": {},
   "outputs": [
    {
     "name": "stdout",
     "output_type": "stream",
     "text": [
      "[0, 0, 0, 0, 0, 0, 0, 0, 0, 0, 0, 0, 0, 0, 0, 0]\n",
      "[0, 0, 0, 0, 1, 1, 1, 0, 0, 0, 0, 0, 1, 1, 1, 1]\n",
      "[0, 0, 0, 0, 1, 1, 1, 1, 1, 1, 1, 1, 1, 1, 1, 1]\n",
      "[1, 1, 1, 1, 1, 1, 1, 1, 1, 1, 1, 1, 1, 1, 1, 1]\n"
     ]
    }
   ],
   "source": [
    "##EX1\n",
    "##test function \n",
    "def testElement(openTag,closeTag,positionOpen,positionClose,indiceList,listElements,score):\n",
    "    #verify exist\n",
    "    if (openTag in listElements):\n",
    "        score[indiceList] = 1\n",
    "    if (closeTag in listElements):\n",
    "        score[indiceList+1] = 1\n",
    "    #verify position\n",
    "    if abs(positionOpen) < len(listElements):\n",
    "        if (listElements[positionOpen] == openTag):\n",
    "            score[indiceList+2] = 1\n",
    "    if abs(positionClose) < len(listElements):\n",
    "        if (listElements[positionClose] == closeTag):\n",
    "            score[indiceList+3] = 1\n",
    "    #remove tag if exist\n",
    "    if (openTag in listElements):  \n",
    "        listElements.remove(openTag)\n",
    "    if (closeTag in listElements):\n",
    "        listElements.remove(closeTag)\n",
    "    return [listElements,score]\n",
    "  \n",
    "    \n",
    "listText = [\"<!DOCTYPE html> <!-- INSERT YOUR MARKUP BELOW --> \",\n",
    "            \"<!DOCTYPE html> <!-- INSERT YOUR MARKUP BELOW --> <head> </head> <body> Hello </body>\",\n",
    "            \"<!DOCTYPE html> <!-- INSERT YOUR MARKUP BELOW --> <head> <title></title> </head> <body> Hello </body>\",\n",
    "            \"<!DOCTYPE html> <!-- INSERT YOUR MARKUP BELOW --> <html><head><title>This is title</title></head><body>Hello world</body></html>\"]\n",
    "\n",
    "def testEx1(number):\n",
    "    listElements = findElements(listText[number])\n",
    "    score = []\n",
    "    for i in range(16):\n",
    "        score.append(0)  \n",
    "    testElement(\"<html>\",\"</html>\",0,-1,0,listElements,score)    \n",
    "    testElement(\"<head>\",\"</head>\",0,3,4,listElements,score) \n",
    "    testElement(\"<title>\",\"</title>\",0,1,8,listElements,score) \n",
    "    testElement(\"<body>\",\"</body>\",0,1,12,listElements,score) \n",
    "    print(score)\n",
    "\n",
    "testEx1(0)\n",
    "testEx1(1)\n",
    "testEx1(2)\n",
    "testEx1(3)"
   ]
  },
  {
   "cell_type": "code",
   "execution_count": 13,
   "metadata": {},
   "outputs": [],
   "source": [
    "###EX2\n",
    "listText = [\"<!DOCTYPE html> <html lang=\\\"en\\\"> <head> <meta charset=\\\"utf-8\\\"> <title>Example</title> </head> <body> <section> <!-- INSERT YOUR MARKUP BELOW --> <h1></h1> <h1></h1> <p></p> <blockquote></blockquote> <p></p> <h2></h2> <p></p> <!-- *** Page Content *** A short history of the Web Where the Web was born Tim Berners-Lee, a British scientist, invented the World Wide Web (WWW) in 1989, while working at CERN. Growing up, Sir Tim was interested in trains and had a model railway in his bedroom. He recalls: “I made some electronic gadgets to control the trains. Then I ended up getting more interested in electronics than trains. Later on, when I was in college I made a computer out of an old television set.” The basic idea of the WWW was to merge the evolving technologies of computers, data networks and hypertext into a powerful and easy to use global information system. How the Web began Tim Berners-Lee wrote the first proposal for the World Wide Web in March 1989 and his second proposal in May 1990. This was formalised as a management proposal in November 1990. This outlined the principal concepts and it defined important terms behind the Web. The document described a \\\"hypertext project\\\" called \\\"WorldWideWeb\\\" in which a \\\"web\\\" of \\\"hypertext documents\\\" could be viewed by “browsers”. By the end of 1990, Tim Berners-Lee had the first Web server and browser up and running at CERN, demonstrating his ideas. He developed the code for his Web server on a NeXT computer. To prevent it being accidentally switched off, the computer had a hand-written label in red ink: \\\"This machine is a server. DO NOT POWER IT DOWN!!\\\" --> </section> </body> </html>\",\n",
    "           \"<!DOCTYPE html> <html lang=\\\"en\\\"> <head> <meta charset=\\\"utf-8\\\"> <title>Example</title> </head> <body> <section> <!-- INSERT YOUR MARKUP BELOW --> <h1> <h2></h2> <p></p> <p></p> <h2></h2> <p></p> <p></p> <!-- *** Page Content *** A short history of the Web Where the Web was born Tim Berners-Lee, a British scientist, invented the World Wide Web (WWW) in 1989, while working at CERN. Growing up, Sir Tim was interested in trains and had a model railway in his bedroom. He recalls: “I made some electronic gadgets to control the trains. Then I ended up getting more interested in electronics than trains. Later on, when I was in college I made a computer out of an old television set.” The basic idea of the WWW was to merge the evolving technologies of computers, data networks and hypertext into a powerful and easy to use global information system. How the Web began Tim Berners-Lee wrote the first proposal for the World Wide Web in March 1989 and his second proposal in May 1990. This was formalised as a management proposal in November 1990. This outlined the principal concepts and it defined important terms behind the Web. The document described a \\\"hypertext project\\\" called \\\"WorldWideWeb\\\" in which a \\\"web\\\" of \\\"hypertext documents\\\" could be viewed by “browsers”. By the end of 1990, Tim Berners-Lee had the first Web server and browser up and running at CERN, demonstrating his ideas. He developed the code for his Web server on a NeXT computer. To prevent it being accidentally switched off, the computer had a hand-written label in red ink: \\\"This machine is a server. DO NOT POWER IT DOWN!!\\\" --> </section> </body> </html>\",\n",
    "            \"<!DOCTYPE html> <html lang=\\\"en\\\"> <head> <meta charset=\\\"utf-8\\\"> <title>Example</title> </head> <body> <section> <!-- INSERT YOUR MARKUP BELOW --> <h1></h1> <h2></h2> <p></p> <blockquote></blockquote> <p></p> <h2></h2> <p></p> <p></p> <!-- *** Page Content *** A short history of the Web Where the Web was born Tim Berners-Lee, a British scientist, invented the World Wide Web (WWW) in 1989, while working at CERN. Growing up, Sir Tim was interested in trains and had a model railway in his bedroom. He recalls: “I made some electronic gadgets to control the trains. Then I ended up getting more interested in electronics than trains. Later on, when I was in college I made a computer out of an old television set.” The basic idea of the WWW was to merge the evolving technologies of computers, data networks and hypertext into a powerful and easy to use global information system. How the Web began Tim Berners-Lee wrote the first proposal for the World Wide Web in March 1989 and his second proposal in May 1990. This was formalised as a management proposal in November 1990. This outlined the principal concepts and it defined important terms behind the Web. The document described a \\\"hypertext project\\\" called \\\"WorldWideWeb\\\" in which a \\\"web\\\" of \\\"hypertext documents\\\" could be viewed by “browsers”. By the end of 1990, Tim Berners-Lee had the first Web server and browser up and running at CERN, demonstrating his ideas. He developed the code for his Web server on a NeXT computer. To prevent it being accidentally switched off, the computer had a hand-written label in red ink: \\\"This machine is a server. DO NOT POWER IT DOWN!!\\\" --> </section> </body> </html>\",\n",
    "           \"<!DOCTYPE html> <html lang=\\\"en\\\"> <head> <meta charset=\\\"utf-8\\\"> <title>Example</title> </head> <body> <section> <!-- INSERT YOUR MARKUP BELOW --> <h1></h1> <h2></h2> <p></p> <p></p> <p></p <h2></h2> <p></p> <!-- *** Page Content *** A short history of the Web Where the Web was born Tim Berners-Lee, a British scientist, invented the World Wide Web (WWW) in 1989, while working at CERN. Growing up, Sir Tim was interested in trains and had a model railway in his bedroom. He recalls: “I made some electronic gadgets to control the trains. Then I ended up getting more interested in electronics than trains. Later on, when I was in college I made a computer out of an old television set.” The basic idea of the WWW was to merge the evolving technologies of computers, data networks and hypertext into a powerful and easy to use global information system. How the Web began Tim Berners-Lee wrote the first proposal for the World Wide Web in March 1989 and his second proposal in May 1990. This was formalised as a management proposal in November 1990. This outlined the principal concepts and it defined important terms behind the Web. The document described a \\\"hypertext project\\\" called \\\"WorldWideWeb\\\" in which a \\\"web\\\" of \\\"hypertext documents\\\" could be viewed by “browsers”. By the end of 1990, Tim Berners-Lee had the first Web server and browser up and running at CERN, demonstrating his ideas. He developed the code for his Web server on a NeXT computer. To prevent it being accidentally switched off, the computer had a hand-written label in red ink: \\\"This machine is a server. DO NOT POWER IT DOWN!!\\\" --> </section> </body> </html>\"]"
   ]
  },
  {
   "cell_type": "code",
   "execution_count": 14,
   "metadata": {},
   "outputs": [
    {
     "name": "stdout",
     "output_type": "stream",
     "text": [
      "[1, 1, 1, 1, 1, 1, 0, 0, 1, 1, 0, 0, 1, 1, 0, 0, 1, 1, 0, 0, 0, 0, 0, 0, 1, 1, 0, 0, 0, 0, 0, 0]\n",
      "[1, 0, 1, 0, 1, 1, 1, 1, 1, 1, 1, 1, 0, 0, 0, 0, 1, 1, 1, 1, 1, 1, 1, 1, 1, 1, 1, 1, 1, 1, 1, 1]\n",
      "[1, 1, 1, 1, 1, 1, 1, 1, 1, 1, 1, 1, 1, 1, 1, 1, 1, 1, 1, 1, 1, 1, 1, 1, 1, 1, 1, 1, 1, 1, 1, 1]\n",
      "[1, 1, 1, 1, 1, 1, 1, 1, 1, 1, 1, 1, 0, 0, 0, 0, 1, 1, 1, 1, 1, 1, 0, 0, 1, 1, 1, 0, 1, 0, 1, 0]\n"
     ]
    }
   ],
   "source": [
    "def removeOldElementsEx1(listElements):\n",
    "    listElements.remove('<html lang=\"en\">')\n",
    "    listElements.remove('<head>')\n",
    "    listElements.remove('<title>')\n",
    "    listElements.remove('</title>')\n",
    "    listElements.remove('</head>')\n",
    "    listElements.remove('<body>')\n",
    "    listElements.remove('<section>')\n",
    "    listElements.remove('</section>')\n",
    "    listElements.remove('</body>')\n",
    "    listElements.remove('</html>')\n",
    "    return listElements\n",
    "\n",
    "def testEx2(number):\n",
    "    listElements = findElements(listText[number])\n",
    "    score = []\n",
    "    for i in range(32):\n",
    "        score.append(0)  \n",
    "    listElements = removeOldElementsEx1(listElements)\n",
    "    testElement(\"<h1>\",\"</h1>\",0,1,0,listElements,score) \n",
    "    testElement(\"<h2>\",\"</h2>\",0,1,4,listElements,score) \n",
    "    testElement(\"<p>\",\"</p>\",0,1,8,listElements,score)\n",
    "    testElement(\"<blockquote>\",\"</blockquote>\",0,1,12,listElements,score) \n",
    "    testElement(\"<p>\",\"</p>\",0,1,16,listElements,score)\n",
    "    testElement(\"<h2>\",\"</h2>\",0,1,20,listElements,score)\n",
    "    testElement(\"<p>\",\"</p>\",0,1,24,listElements,score)\n",
    "    testElement(\"<p>\",\"</p>\",0,1,28,listElements,score)\n",
    "    print(score)\n",
    "\n",
    "testEx2(0)\n",
    "testEx2(1)\n",
    "testEx2(2)\n",
    "testEx2(3)"
   ]
  },
  {
   "cell_type": "code",
   "execution_count": 15,
   "metadata": {},
   "outputs": [],
   "source": [
    "###EX3\n",
    "listText = ['<!DOCTYPE html> <html lang=\"en\"> <head> <meta charset=\"utf-8\"> <title>Example</title> </head> <body> <section> <h1>A short history of the Web</h1> <h2>Where the Web was born</h2> <p>Tim Berners-Lee, a British scientist, invented the World Wide Web (WWW) in 1989, while working at CERN.</p> <p>Growing up, Sir Tim was interested in trains and had a model railway in his bedroom. He recalls:</p> <blockquote>“I made some electronic gadgets to control the trains. Then I ended up getting more interested in electronics than trains. Later on, when I was in college I made a computer out of an old television set.”</blockquote> <p>The basic idea of the WWW was to merge the evolving technologies of computers, data networks and hypertext into a powerful and easy to use global information system.</p> <h2>How the Web began</h2> <p>Tim Berners-Lee wrote the first proposal for the World Wide Web in March 1989 and his second proposal in May 1990. This was formalised as a management proposal in November 1990. This outlined the principal concepts and it defined important terms behind the Web. The document described a \"hypertext project\" called \"WorldWideWeb\" in which a \"web\" of \"hypertext documents\" could be viewed by “browsers”.</p> <p>By the end of 1990, Tim Berners-Lee had the first Web server and browser up and running at CERN, demonstrating his ideas. He developed the code for his Web server on a NeXT computer. To prevent it being accidentally switched off, the computer had a hand-written label in red ink: \"This machine is a server. DO NOT POWER IT DOWN!!\"</p> <!-- INSERT YOUR MARKUP BELOW --> <p>The three fundamental technologies that remain the foundation of today’s web:</p> <ul> <li><a href=\"https://en.wikipedia.org/wiki/HTML\">HTML</a></li> <li>URI</li> <li>HTTP</li> </ul> <p>Read more about <a href=\"https://en.wikipedia.org/wiki/Tim_Berners-Lee\">Tim Berners-Lee</a></p> <img alt=\"Tim’s original proposal\" src=\"https://tinyurl.com/yxdkbbbj\"> <img src=\"https://tinyurl.com/yyjstlro\"> <!-- *** Hyperlinks *** (1) https://en.wikipedia.org/wiki/HTML (2) https://en.wikipedia.org/wiki/Tim_Berners-Lee *** Image sources *** (1) Tim\\'s original proposal: https://tinyurl.com/yxdkbbbj (2) Tim Berners-Lee: https://tinyurl.com/yyjstlro *** Text content *** The three fundamental technologies that remain the foundation of today’s web: HTML URI HTTP Read more about Tim Berners-Lee --> </section> </body> </html>',\n",
    "            '<!DOCTYPE html> <html lang=\"en\"> <head> <meta charset=\"utf-8\"> <title>Example</title> </head> <body> <section> <h1>A short history of the Web</h1> <h2>Where the Web was born</h2> <p>Tim Berners-Lee, a British scientist, invented the World Wide Web (WWW) in 1989, while working at CERN.</p> <p>Growing up, Sir Tim was interested in trains and had a model railway in his bedroom. He recalls:</p> <blockquote>“I made some electronic gadgets to control the trains. Then I ended up getting more interested in electronics than trains. Later on, when I was in college I made a computer out of an old television set.”</blockquote> <p>The basic idea of the WWW was to merge the evolving technologies of computers, data networks and hypertext into a powerful and easy to use global information system.</p> <h2>How the Web began</h2> <p>Tim Berners-Lee wrote the first proposal for the World Wide Web in March 1989 and his second proposal in May 1990. This was formalised as a management proposal in November 1990. This outlined the principal concepts and it defined important terms behind the Web. The document described a \"hypertext project\" called \"WorldWideWeb\" in which a \"web\" of \"hypertext documents\" could be viewed by “browsers”.</p> <p>By the end of 1990, Tim Berners-Lee had the first Web server and browser up and running at CERN, demonstrating his ideas. He developed the code for his Web server on a NeXT computer. To prevent it being accidentally switched off, the computer had a hand-written label in red ink: \"This machine is a server. DO NOT POWER IT DOWN!!\"</p> <!-- INSERT YOUR MARKUP BELOW --> <h2>The three fundamental technologies that remain the foundation of today’s web:</h2> <ul> <li>HTML</li <li>URI</li> <li>HTTP</li> </ul> <p>Read more about <a ref=\"https://en.wikipedia.org/wiki/Tim_Berners-Lee\">Tim Berners-Lee</a></p> <img alt=\"Tim’s original proposal\" src=\"https://tinyurl.com/yxdkbbbj\"> <img alt=\"Tim Berners-Lee\" src=\"https://tinyurl.com/yyjstlro\"> <!-- *** Hyperlinks *** (1) https://en.wikipedia.org/wiki/HTML (2) https://en.wikipedia.org/wiki/Tim_Berners-Lee *** Image sources *** (1) Tim\\'s original proposal: https://tinyurl.com/yxdkbbbj (2) Tim Berners-Lee: https://tinyurl.com/yyjstlro *** Text content *** The three fundamental technologies that remain the foundation of today’s web: HTML URI HTTP Read more about Tim Berners-Lee --> </section> </body> </html>',\n",
    "            '<!DOCTYPE html> <html lang=\"en\"> <head> <meta charset=\"utf-8\"> <title>Example</title> </head> <body> <section> <h1>A short history of the Web</h1> <h2>Where the Web was born</h2> <p>Tim Berners-Lee, a British scientist, invented the World Wide Web (WWW) in 1989, while working at CERN.</p> <p>Growing up, Sir Tim was interested in trains and had a model railway in his bedroom. He recalls:</p> <blockquote>“I made some electronic gadgets to control the trains. Then I ended up getting more interested in electronics than trains. Later on, when I was in college I made a computer out of an old television set.”</blockquote> <p>The basic idea of the WWW was to merge the evolving technologies of computers, data networks and hypertext into a powerful and easy to use global information system.</p> <h2>How the Web began</h2> <p>Tim Berners-Lee wrote the first proposal for the World Wide Web in March 1989 and his second proposal in May 1990. This was formalised as a management proposal in November 1990. This outlined the principal concepts and it defined important terms behind the Web. The document described a \"hypertext project\" called \"WorldWideWeb\" in which a \"web\" of \"hypertext documents\" could be viewed by “browsers”.</p> <p>By the end of 1990, Tim Berners-Lee had the first Web server and browser up and running at CERN, demonstrating his ideas. He developed the code for his Web server on a NeXT computer. To prevent it being accidentally switched off, the computer had a hand-written label in red ink: \"This machine is a server. DO NOT POWER IT DOWN!!\"</p> <!-- INSERT YOUR MARKUP BELOW --> <p>The three fundamental technologies that remain the foundation of today’s web:</p> <ul> <li><a href=\"https://en.wikipedia.org/wiki/HTML\">HTML</a></li> <li>URI</li> <li>HTTP</li> </ul> <p>Read more about <a href=\"https://en.wikipedia.org/wiki/Tim_Berners-Lee\">Tim Berners-Lee</a></p> <img alt=\"Tim’s original proposal\" src=\"https://tinyurl.com/yxdkbbbj\"> <img alt=\"Tim Berners-Lee\" src=\"https://tinyurl.com/yyjstlro\"> <!-- *** Hyperlinks *** (1) https://en.wikipedia.org/wiki/HTML (2) https://en.wikipedia.org/wiki/Tim_Berners-Lee *** Image sources *** (1) Tim\\'s original proposal: https://tinyurl.com/yxdkbbbj (2) Tim Berners-Lee: https://tinyurl.com/yyjstlro *** Text content *** The three fundamental technologies that remain the foundation of today’s web: HTML URI HTTP Read more about Tim Berners-Lee --> </section> </body> </html>',\n",
    "            '<!DOCTYPE html> <html lang=\"en\"> <head> <meta charset=\"utf-8\"> <title>Example</title> </head> <body> <section> <h1>A short history of the Web</h1> <h2>Where the Web was born</h2> <p>Tim Berners-Lee, a British scientist, invented the World Wide Web (WWW) in 1989, while working at CERN.</p> <p>Growing up, Sir Tim was interested in trains and had a model railway in his bedroom. He recalls:</p> <blockquote>“I made some electronic gadgets to control the trains. Then I ended up getting more interested in electronics than trains. Later on, when I was in college I made a computer out of an old television set.”</blockquote> <p>The basic idea of the WWW was to merge the evolving technologies of computers, data networks and hypertext into a powerful and easy to use global information system.</p> <h2>How the Web began</h2> <p>Tim Berners-Lee wrote the first proposal for the World Wide Web in March 1989 and his second proposal in May 1990. This was formalised as a management proposal in November 1990. This outlined the principal concepts and it defined important terms behind the Web. The document described a \"hypertext project\" called \"WorldWideWeb\" in which a \"web\" of \"hypertext documents\" could be viewed by “browsers”.</p> <p>By the end of 1990, Tim Berners-Lee had the first Web server and browser up and running at CERN, demonstrating his ideas. He developed the code for his Web server on a NeXT computer. To prevent it being accidentally switched off, the computer had a hand-written label in red ink: \"This machine is a server. DO NOT POWER IT DOWN!!\"</p> <!-- INSERT YOUR MARKUP BELOW --> <!-- *** Hyperlinks *** (1) https://en.wikipedia.org/wiki/HTML (2) https://en.wikipedia.org/wiki/Tim_Berners-Lee *** Image sources *** (1) Tim\\'s original proposal: https://tinyurl.com/yxdkbbbj (2) Tim Berners-Lee: https://tinyurl.com/yyjstlro *** Text content *** The three fundamental technologies that remain the foundation of today’s web: HTML URI HTTP Read more about Tim Berners-Lee --> </section> </body> </html>']"
   ]
  },
  {
   "cell_type": "code",
   "execution_count": 16,
   "metadata": {},
   "outputs": [
    {
     "name": "stdout",
     "output_type": "stream",
     "text": [
      "[1, 1, 1, 1, 1, 1, 1, 1, 1, 1, 1, 1, 1, 1, 1, 1, 1, 1, 1, 1, 1, 1, 1, 1, 1, 1, 1, 1, 1, 1, 1, 1, 1, 0, 1, 0]\n",
      "[1, 1, 0, 0, 1, 1, 0, 0, 1, 1, 0, 0, 0, 1, 0, 0, 1, 1, 0, 0, 1, 0, 0, 0, 0, 0, 0, 0, 0, 0, 0, 0, 1, 1, 0, 0]\n",
      "[1, 1, 1, 1, 1, 1, 1, 1, 1, 1, 1, 1, 1, 1, 1, 1, 1, 1, 1, 1, 1, 1, 1, 1, 1, 1, 1, 1, 1, 1, 1, 1, 1, 1, 1, 1]\n",
      "[0, 0, 0, 0, 0, 0, 0, 0, 0, 0, 0, 0, 0, 0, 0, 0, 0, 0, 0, 0, 0, 0, 0, 0, 0, 0, 0, 0, 0, 0, 0, 0, 0, 0, 0, 0]\n"
     ]
    }
   ],
   "source": [
    "def removeOldElementsEx2(listElements):\n",
    "    listElements = removeOldElementsEx1(listElements)\n",
    "    \n",
    "    listElements.remove('<h1>')\n",
    "    listElements.remove('</h1>')\n",
    "    listElements.remove('<h2>')\n",
    "    listElements.remove('</h2>')\n",
    "    listElements.remove('<p>')\n",
    "    listElements.remove('</p>')\n",
    "    listElements.remove('<p>')\n",
    "    listElements.remove('</p>')\n",
    "    listElements.remove('<blockquote>')\n",
    "    listElements.remove('</blockquote>')\n",
    "    listElements.remove('<p>')\n",
    "    listElements.remove('</p>')\n",
    "    listElements.remove('<h2>')\n",
    "    listElements.remove('</h2>')\n",
    "    listElements.remove('<p>')\n",
    "    listElements.remove('</p>')\n",
    "    listElements.remove('<p>')\n",
    "    listElements.remove('</p>')\n",
    "    \n",
    "    return listElements\n",
    "\n",
    "def testEx3(number):\n",
    "    listElements = findElements(listText[number])\n",
    "    score = []\n",
    "    for i in range(36):\n",
    "        score.append(0)  \n",
    "    listElements = removeOldElementsEx2(listElements)\n",
    "    testElement(\"<p>\",\"</p>\",0,1,0,listElements,score) \n",
    "    testElement(\"<ul>\",\"</ul>\",0,9,4,listElements,score) \n",
    "    testElement(\"<li>\",\"</li>\",0,3,8,listElements,score)\n",
    "    testElement('<a href=\"https://en.wikipedia.org/wiki/HTML\">',\"</a>\",0,1,12,listElements,score) \n",
    "    \n",
    "    if (\"<a>\" in listElements):  \n",
    "        listElements.remove(\"<a>\")\n",
    "        \n",
    "    testElement(\"<li>\",\"</li>\",0,1,16,listElements,score)\n",
    "    testElement(\"<li>\",\"</li>\",0,1,20,listElements,score)\n",
    "    testElement(\"<p>\",\"</p>\",0,3,24,listElements,score)\n",
    "    testElement('<a href=\"https://en.wikipedia.org/wiki/Tim_Berners-Lee\">',\"</a>\",0,1,28,listElements,score)\n",
    "    testElement('<img alt=\"Tim’s original proposal\" src=\"https://tinyurl.com/yxdkbbbj\">', '<img alt=\"Tim Berners-Lee\" src=\"https://tinyurl.com/yyjstlro\">',0,1,32,listElements,score)\n",
    "    print(score)\n",
    "\n",
    "testEx3(0)\n",
    "testEx3(1)\n",
    "testEx3(2)\n",
    "testEx3(3)"
   ]
  },
  {
   "cell_type": "code",
   "execution_count": 50,
   "metadata": {},
   "outputs": [],
   "source": [
    "listTextFinal = ['<!DOCTYPE html>\\n<html lang=\\\"en\\\">\\n<head>\\n<meta charset=\\\"utf-8\\\">\\n<title>EPFL - Architecture</title>\\n</head>\\n<body>\\n<section>\\n<h2>Architecture</h2>\\n<p>Building places to live, work, or learn in; designing spaces incorporating both aesthetic and cultural reflection: architecture is characterized by this challenging desire to serve everything while aspiring to improve our lifestyle</p>\\n\\n<h3>Program presentation</h3>\\n<p>Studies in architecture are not structured like those in EPFL’s other departments: its teaching relies on the perpetual dialogue between practice and theory.</p>\\n\\n<h3>Study plan</h3>\\n<li><a>Bachelor first year</a></li>\\n<li><a>Bachelor 2nd and 3rd year</a></li>\\n<li><a>Master</a></li>\\n\\n<img src=\\\"https://media-cdn.tripadvisor.com/media/photo-s/05/15/db/23/rolex-learning-center.jp\\\" alt=\\\"Rolex Learning Center\\\">\\n</section>\\n</body>\\n</html>',\n",
    "           '<!DOCTYPE html>\\n<html lang=\\\"en\\\">\\n<head>\\n<meta charset=\\\"utf-8\\\">\\n<title>EPFL - Architecture</title>\\n</head>\\n<body>\\n<section>\\n<h2>Architecture</h2>\\n<p>Building places to live, work, or learn in; designing spaces incorporating both aesthetic and cultural reflection: architecture is characterized by this challenging desire to serve everything while aspiring to improve our lifestyle</p>\\n\\n<h3>Program presentation</h3>\\n<p>Studies in architecture are not structured like those in EPFL’s other departments: its teaching relies on the perpetual dialogue between practice and theory.\\n\\n<h3>Study plan</h3>\\n<ul>\\n    <li><a>Bachelor first year</a></li>\\n    <li><a>Bachelor 2nd and 3rd year</a></li>\\n    <li><a>Master</a></li>\\n</ul>\\n<img src=\\\"https://media-cdn.tripadvisor.com/media/photo-s/05/15/db/23/rolex-learning-center.jpg\\\">\\n</section>\\n</body>\\n</html>',\n",
    "           '<!DOCTYPE html><html lang=\"en\"><head><meta charset=\"utf-8\"><title>EPFL - Architecture</title></head><body><section><h1>Architecture</h1><p>Building places to live, work, or learn in;designing spaces incorporating both aesthetic and cultural reflection: architecture is characterized by this challenging desire to serve everything while aspiring to improve our lifestyle</p><h2>Program presentation</h2><p>Studies in architecture are not structured like those in EPFL’s other departments: its teaching relies on the perpetual dialogue between practice and theory.</p><h2>Study plan</h2><ul><li><a href=\"https://epfl.ch/b1\">Bachelor first year</a></li><li><a href=\"https://epfl.ch/b+\">Bachelor 2nd and 3rd year</a></li>\t\t\t<li><a href=\"https://epfl.ch/master\">Master</a></li></ul><img alt=\"Architecture: background image\" src=\"https://media-cdn.tripadvisor.com/media/photo-s/05/15/db/23/rolex-learning-center.jpg\"></section></body></html>']"
   ]
  },
  {
   "cell_type": "code",
   "execution_count": 53,
   "metadata": {},
   "outputs": [
    {
     "name": "stdout",
     "output_type": "stream",
     "text": [
      "[1, 1, 1, 1, 0, 0, 0, 0, 1, 1, 1, 1, 0, 0, 0, 0, 0, 0, 0, 1, 1]\n",
      "[1, 1, 1, 1, 0, 0, 0, 0, 1, 0, 1, 0, 1, 1, 1, 1, 0, 0, 0, 1, 0]\n",
      "[1, 1, 1, 1, 1, 1, 1, 1, 1, 1, 1, 1, 1, 1, 1, 1, 1, 1, 1, 1, 1]\n"
     ]
    }
   ],
   "source": [
    "def removeOldElementsFinal(listElements):\n",
    "    listElements.remove('<html lang=\"en\">')\n",
    "    listElements.remove('<head>')\n",
    "    listElements.remove('<title>')\n",
    "    listElements.remove('</title>')\n",
    "    listElements.remove('</head>')\n",
    "    listElements.remove('<section>')\n",
    "    listElements.remove('</section>')\n",
    "    listElements.remove('</html>')\n",
    "    listElements.remove('<li>')\n",
    "    listElements.remove('</li>')\n",
    "    listElements.remove('<li>')\n",
    "    listElements.remove('</li>')\n",
    "    listElements.remove('<li>')\n",
    "    listElements.remove('</li>')\n",
    "    listElements.remove('<p>')\n",
    "    listElements.remove('</p>')\n",
    "    listElements.remove('</a>')\n",
    "    listElements.remove('</a>')\n",
    "    listElements.remove('</a>')\n",
    "    return listElements\n",
    "    \n",
    "def testFinal(number):\n",
    "    listElements = findElements(listTextFinal[number])\n",
    "\n",
    "    score = []\n",
    "    for i in range(21):\n",
    "        score.append(0)  \n",
    "    listElements = removeOldElementsFinal(listElements)\n",
    "\n",
    "    \n",
    "    #1. Closing tag </body> missing\n",
    "    testElement(\"<body>\",\"</body>\",0,-1,0,listElements,score) \n",
    "    \n",
    "    #2. Order of headings\n",
    "    testElement(\"<h1>\",\"</h1>\",0,1,4,listElements,score)\n",
    "    if (\"<h2>\" in listElements):  \n",
    "        listElements.remove(\"<h2>\")\n",
    "    if (\"</h2>\" in listElements):\n",
    "        listElements.remove(\"</h2>\")\n",
    "    if (\"<h3>\" in listElements):  \n",
    "        listElements.remove(\"<h3>\")\n",
    "    if (\"</h3>\" in listElements):\n",
    "        listElements.remove(\"</h3>\")\n",
    "    if (\"<h2>\" in listElements):  \n",
    "        listElements.remove(\"<h2>\")\n",
    "    if (\"</h2>\" in listElements):\n",
    "        listElements.remove(\"</h2>\")\n",
    "    if (\"<h3>\" in listElements):  \n",
    "        listElements.remove(\"<h3>\")\n",
    "    if (\"</h3>\" in listElements):\n",
    "        listElements.remove(\"</h3>\")\n",
    "\n",
    "    \n",
    "    #3. Closing tag </p> missing\n",
    "    testElement(\"<p>\",\"</p>\",0,1,8,listElements,score)\n",
    "\n",
    "    \n",
    "    #5. <ul> missing\n",
    "    testElement(\"<ul>\",\"</ul>\",0,4,12,listElements,score)\n",
    "\n",
    "    \n",
    "    #4. <a> is required to have href attribute\n",
    "    if (\"<a>\" in listElements):\n",
    "        listElements.remove(\"<a>\")\n",
    "    else:\n",
    "        score[16] = 1\n",
    "        listElements.pop(0)\n",
    "    if (\"<a>\" in listElements):\n",
    "        listElements.remove(\"<a>\")\n",
    "    else:\n",
    "        score[17] = 1\n",
    "        listElements.pop(0)\n",
    "    if (\"<a>\" in listElements):\n",
    "        listElements.remove(\"<a>\")\n",
    "    else:\n",
    "        score[18] = 1\n",
    "        listElements.pop(0)\n",
    "\n",
    "    #6. <img> src broken    #7. alt attribute missing\n",
    "    if ('<img src=\"https://media-cdn.tripadvisor.com/media/photo-s/05/15/db/23/rolex-learning-center.jp\">' in listElements):\n",
    "        score[19] = 0\n",
    "        score[20] = 0\n",
    "        listElements.remove('<img src=\"https://media-cdn.tripadvisor.com/media/photo-s/05/15/db/23/rolex-learning-center.jp\">')\n",
    "    elif ('<img src=\"https://media-cdn.tripadvisor.com/media/photo-s/05/15/db/23/rolex-learning-center.jpg\">' in listElements):\n",
    "        score[19] = 1\n",
    "        score[20] = 0\n",
    "        listElements.remove('<img src=\"https://media-cdn.tripadvisor.com/media/photo-s/05/15/db/23/rolex-learning-center.jpg\">')\n",
    "    else:\n",
    "        score[19] = 1\n",
    "        score[20] = 1\n",
    "        \n",
    "    #8. Indentation\n",
    "    print(score)\n",
    "    \n",
    "\n",
    "testFinal(0)\n",
    "testFinal(1)\n",
    "testFinal(2)"
   ]
  },
  {
   "cell_type": "code",
   "execution_count": null,
   "metadata": {},
   "outputs": [],
   "source": []
  },
  {
   "cell_type": "code",
   "execution_count": null,
   "metadata": {},
   "outputs": [],
   "source": []
  },
  {
   "cell_type": "code",
   "execution_count": null,
   "metadata": {},
   "outputs": [],
   "source": []
  }
 ],
 "metadata": {
  "kernelspec": {
   "display_name": "Python 3",
   "language": "python",
   "name": "python3"
  },
  "language_info": {
   "codemirror_mode": {
    "name": "ipython",
    "version": 3
   },
   "file_extension": ".py",
   "mimetype": "text/x-python",
   "name": "python",
   "nbconvert_exporter": "python",
   "pygments_lexer": "ipython3",
   "version": "3.7.4"
  }
 },
 "nbformat": 4,
 "nbformat_minor": 4
}
