{
 "cells": [
  {
   "cell_type": "code",
   "execution_count": 1,
   "metadata": {},
   "outputs": [],
   "source": [
    "prior_path = 'data/prior.json'\n",
    "ex1_path = 'data/ex1.json'\n",
    "ex2_path = 'data/ex2.json'\n",
    "ex3_path = 'data/ex3.json'"
   ]
  },
  {
   "cell_type": "code",
   "execution_count": 2,
   "metadata": {},
   "outputs": [],
   "source": [
    "import pandas as pd\n",
    "import json, re"
   ]
  },
  {
   "cell_type": "code",
   "execution_count": 3,
   "metadata": {},
   "outputs": [],
   "source": [
    "def load_json(path):\n",
    "    with open(path) as file:\n",
    "        return json.load(file)"
   ]
  },
  {
   "cell_type": "code",
   "execution_count": 4,
   "metadata": {},
   "outputs": [],
   "source": [
    "def get_prior_knowledge(data):\n",
    "    payload = data['payload']\n",
    "    res = {k: v['data']['answersIndex'] for k, v in payload.items()}\n",
    "    return pd.DataFrame(res, index=['q1', 'q2', 'q3', 'q4']).T"
   ]
  },
  {
   "cell_type": "code",
   "execution_count": 5,
   "metadata": {},
   "outputs": [],
   "source": [
    "def get_exercise_results(data):\n",
    "    payload = data['payload']\n",
    "    res = {k: v['data']['code'] for k, v in payload.items()}\n",
    "    return pd.Series(res)"
   ]
  },
  {
   "cell_type": "code",
   "execution_count": 6,
   "metadata": {},
   "outputs": [],
   "source": [
    "prior_dict = load_json(prior_path)\n",
    "prior_knowledge = get_prior_knowledge(prior_dict)"
   ]
  },
  {
   "cell_type": "code",
   "execution_count": 7,
   "metadata": {},
   "outputs": [
    {
     "data": {
      "text/html": [
       "<div>\n",
       "<style scoped>\n",
       "    .dataframe tbody tr th:only-of-type {\n",
       "        vertical-align: middle;\n",
       "    }\n",
       "\n",
       "    .dataframe tbody tr th {\n",
       "        vertical-align: top;\n",
       "    }\n",
       "\n",
       "    .dataframe thead th {\n",
       "        text-align: right;\n",
       "    }\n",
       "</style>\n",
       "<table border=\"1\" class=\"dataframe\">\n",
       "  <thead>\n",
       "    <tr style=\"text-align: right;\">\n",
       "      <th></th>\n",
       "      <th>q1</th>\n",
       "      <th>q2</th>\n",
       "      <th>q3</th>\n",
       "      <th>q4</th>\n",
       "    </tr>\n",
       "  </thead>\n",
       "  <tbody>\n",
       "    <tr>\n",
       "      <td>REGxrT2piXhhm7aj4</td>\n",
       "      <td>1</td>\n",
       "      <td>0</td>\n",
       "      <td>1</td>\n",
       "      <td>0</td>\n",
       "    </tr>\n",
       "    <tr>\n",
       "      <td>cQbQcBnHgWsB72JaP</td>\n",
       "      <td>0</td>\n",
       "      <td>1</td>\n",
       "      <td>0</td>\n",
       "      <td>1</td>\n",
       "    </tr>\n",
       "    <tr>\n",
       "      <td>sY2PHLSsXkPtG4hWy</td>\n",
       "      <td>0</td>\n",
       "      <td>1</td>\n",
       "      <td>0</td>\n",
       "      <td>1</td>\n",
       "    </tr>\n",
       "    <tr>\n",
       "      <td>vrBM9oi4u9kozeFtb</td>\n",
       "      <td>0</td>\n",
       "      <td>1</td>\n",
       "      <td>0</td>\n",
       "      <td>1</td>\n",
       "    </tr>\n",
       "  </tbody>\n",
       "</table>\n",
       "</div>"
      ],
      "text/plain": [
       "                   q1  q2  q3  q4\n",
       "REGxrT2piXhhm7aj4   1   0   1   0\n",
       "cQbQcBnHgWsB72JaP   0   1   0   1\n",
       "sY2PHLSsXkPtG4hWy   0   1   0   1\n",
       "vrBM9oi4u9kozeFtb   0   1   0   1"
      ]
     },
     "execution_count": 7,
     "metadata": {},
     "output_type": "execute_result"
    }
   ],
   "source": [
    "prior_knowledge"
   ]
  },
  {
   "cell_type": "code",
   "execution_count": 17,
   "metadata": {},
   "outputs": [],
   "source": [
    "# html_clean_comments = re.compile(r\"<!--(.*?)-->\")\n",
    "# html_clean_spaces\n",
    "regex_html_comments = r\"<!--(.*?)-->\"\n",
    "regex_html_tags = r\"<\\/?(?:html|head|title|body|section|h[1-6]|p|blockquote|ul|li|a|img)[^<>]*>\"\n",
    "html_cleaned = re.sub(regex_html_comments, \"\", \"<!--sljaæflasjg--><h1 href='sdfljel'>ælsdjfaljfio</h1> <!-- læsfj --> <p>sjklgs<a></a><p>\")\n",
    "html_cleaned = re.sub(regex_html_comments, \"\", \"<!DOCTYPE html> <!-- INSERT YOUR MARKUP BELOW --> <html><header><title>This is title</title></header><body>Hello world</body></html>\")\n",
    "html = re.findall(regex_html_tags, html_cleaned, re.I)\n",
    "html\n",
    "\n",
    "def findElements(text):\n",
    "    regex_html_comments = r\"<!--(.*?)-->\"\n",
    "    regex_html_tags = r\"<\\/?(?:html|head|title|body|section|h[1-6]|p|blockquote|ul|li|a|img)[^<>]*>\"\n",
    "    html_cleaned = re.sub(regex_html_comments, \"\", text)\n",
    "    return re.findall(regex_html_tags, html_cleaned, re.I)\n",
    "\n"
   ]
  },
  {
   "cell_type": "code",
   "execution_count": 13,
   "metadata": {},
   "outputs": [],
   "source": [
    "ex1_dict = load_json(ex1_path)\n",
    "ex1 = get_exercise_results(ex1_dict)"
   ]
  },
  {
   "cell_type": "code",
   "execution_count": 14,
   "metadata": {},
   "outputs": [
    {
     "data": {
      "text/plain": [
       "REGxrT2piXhhm7aj4    <!DOCTYPE html>\\n<!-- INSERT YOUR MARKUP BELOW...\n",
       "cQbQcBnHgWsB72JaP    <!DOCTYPE html>\\n<!-- INSERT YOUR MARKUP BELOW...\n",
       "sY2PHLSsXkPtG4hWy    <!DOCTYPE html>\\n<!-- INSERT YOUR MARKUP BELOW...\n",
       "vrBM9oi4u9kozeFtb    <!DOCTYPE html>\\n<!-- INSERT YOUR MARKUP BELOW...\n",
       "dtype: object"
      ]
     },
     "execution_count": 14,
     "metadata": {},
     "output_type": "execute_result"
    }
   ],
   "source": [
    "ex1"
   ]
  },
  {
   "cell_type": "code",
   "execution_count": 15,
   "metadata": {},
   "outputs": [],
   "source": [
    "# students = json_dict['payload']\n",
    "# for student_id, student_data in students.items():\n",
    "#     print(student_id)"
   ]
  },
  {
   "cell_type": "code",
   "execution_count": 39,
   "metadata": {},
   "outputs": [
    {
     "name": "stdout",
     "output_type": "stream",
     "text": [
      "[1, 1, 1, 1, 1, 1, 1, 1, 1, 1, 1, 1, 1, 1, 1, 1]\n"
     ]
    }
   ],
   "source": [
    "listElements = findElements(\"<!DOCTYPE html> <!-- INSERT YOUR MARKUP BELOW --> <html><head><title>This is title</title></head><body>Hello world</body></html>\")\n",
    "score = [0,0,0,0,0,0,0,0,0,0,0,0,0,0,0,0];\n",
    "##test function \n",
    "def testElement(openTag,closeTag,positionOpen,positionClose,indiceList):\n",
    "    #verify exist\n",
    "    if (openTag in listElements):\n",
    "        score[indiceList] = 1\n",
    "    if (closeTag in listElements):\n",
    "        score[indiceList+1] = 1\n",
    "    #verify position\n",
    "    if (listElements[positionOpen] == openTag):\n",
    "        score[indiceList+2] = 1\n",
    "    if (listElements[positionClose] == closeTag):\n",
    "        score[indiceList+3] = 1\n",
    "    #remove tag if exist\n",
    "    if (openTag in listElements):  \n",
    "        listElements.remove(openTag)\n",
    "    if (closeTag in listElements):\n",
    "        listElements.remove(closeTag)\n",
    "        \n",
    "testElement(\"<html>\",\"</html>\",0,-1,0)    \n",
    "testElement(\"<head>\",\"</head>\",0,3,4) \n",
    "testElement(\"<title>\",\"</title>\",0,1,8) \n",
    "testElement(\"<body>\",\"</body>\",0,1,12) \n",
    "\n",
    "print(score)"
   ]
  },
  {
   "cell_type": "code",
   "execution_count": null,
   "metadata": {},
   "outputs": [],
   "source": []
  }
 ],
 "metadata": {
  "kernelspec": {
   "display_name": "Python 3",
   "language": "python",
   "name": "python3"
  },
  "language_info": {
   "codemirror_mode": {
    "name": "ipython",
    "version": 3
   },
   "file_extension": ".py",
   "mimetype": "text/x-python",
   "name": "python",
   "nbconvert_exporter": "python",
   "pygments_lexer": "ipython3",
   "version": "3.7.4"
  }
 },
 "nbformat": 4,
 "nbformat_minor": 4
}
