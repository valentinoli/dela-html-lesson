{
 "cells": [
  {
   "cell_type": "code",
   "execution_count": 2,
   "metadata": {},
   "outputs": [],
   "source": [
    "prior_path = 'data/prior.json'\n",
    "ex1_path = 'data/ex1.json'\n",
    "ex2_path = 'data/ex2.json'\n",
    "ex3_path = 'data/ex3.json'"
   ]
  },
  {
   "cell_type": "code",
   "execution_count": 3,
   "metadata": {},
   "outputs": [],
   "source": [
    "import pandas as pd\n",
    "import json, re"
   ]
  },
  {
   "cell_type": "code",
   "execution_count": 4,
   "metadata": {},
   "outputs": [],
   "source": [
    "def load_json(path):\n",
    "    with open(path) as file:\n",
    "        return json.load(file)"
   ]
  },
  {
   "cell_type": "code",
   "execution_count": 5,
   "metadata": {},
   "outputs": [],
   "source": [
    "def get_prior_knowledge(data):\n",
    "    payload = data['payload']\n",
    "    res = {k: v['data']['answersIndex'] for k, v in payload.items()}\n",
    "    return pd.DataFrame(res, index=['q1', 'q2', 'q3', 'q4']).T"
   ]
  },
  {
   "cell_type": "code",
   "execution_count": 6,
   "metadata": {},
   "outputs": [],
   "source": [
    "def get_exercise_results(data):\n",
    "    payload = data['payload']\n",
    "    res = {k: v['data']['code'] for k, v in payload.items()}\n",
    "    return pd.Series(res)"
   ]
  },
  {
   "cell_type": "code",
   "execution_count": 7,
   "metadata": {},
   "outputs": [],
   "source": [
    "prior_dict = load_json(prior_path)\n",
    "prior_knowledge = get_prior_knowledge(prior_dict)"
   ]
  },
  {
   "cell_type": "code",
   "execution_count": 8,
   "metadata": {},
   "outputs": [
    {
     "data": {
      "text/html": [
       "<div>\n",
       "<style scoped>\n",
       "    .dataframe tbody tr th:only-of-type {\n",
       "        vertical-align: middle;\n",
       "    }\n",
       "\n",
       "    .dataframe tbody tr th {\n",
       "        vertical-align: top;\n",
       "    }\n",
       "\n",
       "    .dataframe thead th {\n",
       "        text-align: right;\n",
       "    }\n",
       "</style>\n",
       "<table border=\"1\" class=\"dataframe\">\n",
       "  <thead>\n",
       "    <tr style=\"text-align: right;\">\n",
       "      <th></th>\n",
       "      <th>q1</th>\n",
       "      <th>q2</th>\n",
       "      <th>q3</th>\n",
       "      <th>q4</th>\n",
       "    </tr>\n",
       "  </thead>\n",
       "  <tbody>\n",
       "    <tr>\n",
       "      <td>REGxrT2piXhhm7aj4</td>\n",
       "      <td>1</td>\n",
       "      <td>0</td>\n",
       "      <td>1</td>\n",
       "      <td>0</td>\n",
       "    </tr>\n",
       "    <tr>\n",
       "      <td>cQbQcBnHgWsB72JaP</td>\n",
       "      <td>0</td>\n",
       "      <td>1</td>\n",
       "      <td>0</td>\n",
       "      <td>1</td>\n",
       "    </tr>\n",
       "    <tr>\n",
       "      <td>sY2PHLSsXkPtG4hWy</td>\n",
       "      <td>0</td>\n",
       "      <td>1</td>\n",
       "      <td>0</td>\n",
       "      <td>1</td>\n",
       "    </tr>\n",
       "    <tr>\n",
       "      <td>vrBM9oi4u9kozeFtb</td>\n",
       "      <td>0</td>\n",
       "      <td>1</td>\n",
       "      <td>0</td>\n",
       "      <td>1</td>\n",
       "    </tr>\n",
       "  </tbody>\n",
       "</table>\n",
       "</div>"
      ],
      "text/plain": [
       "                   q1  q2  q3  q4\n",
       "REGxrT2piXhhm7aj4   1   0   1   0\n",
       "cQbQcBnHgWsB72JaP   0   1   0   1\n",
       "sY2PHLSsXkPtG4hWy   0   1   0   1\n",
       "vrBM9oi4u9kozeFtb   0   1   0   1"
      ]
     },
     "execution_count": 8,
     "metadata": {},
     "output_type": "execute_result"
    }
   ],
   "source": [
    "prior_knowledge"
   ]
  },
  {
   "cell_type": "code",
   "execution_count": 9,
   "metadata": {},
   "outputs": [],
   "source": [
    "# html_clean_comments = re.compile(r\"<!--(.*?)-->\")\n",
    "# html_clean_spaces\n",
    "regex_html_comments = r\"<!--(.*?)-->\"\n",
    "regex_html_tags = r\"<\\/?(?:html|head|title|body|section|h[1-6]|p|blockquote|ul|li|a|img)[^<>]*>\"\n",
    "html_cleaned = re.sub(regex_html_comments, \"\", \"<!--sljaæflasjg--><h1 href='sdfljel'>ælsdjfaljfio</h1> <!-- læsfj --> <p>sjklgs<a></a><p>\")\n",
    "html_cleaned = re.sub(regex_html_comments, \"\", \"<!DOCTYPE html> <!-- INSERT YOUR MARKUP BELOW --> <html><header><title>This is title</title></header><body>Hello world</body></html>\")\n",
    "html = re.findall(regex_html_tags, html_cleaned, re.I)\n",
    "html\n",
    "\n",
    "def findElements(text):\n",
    "    regex_html_comments = r\"<!--(.*?)-->\"\n",
    "    regex_html_tags = r\"<\\/?(?:html|head|title|body|section|h[1-6]|p|blockquote|ul|li|a|img)[^<>]*>\"\n",
    "    html_cleaned = re.sub(regex_html_comments, \"\", text)\n",
    "    return re.findall(regex_html_tags, html_cleaned, re.I)\n",
    "\n"
   ]
  },
  {
   "cell_type": "code",
   "execution_count": 10,
   "metadata": {},
   "outputs": [],
   "source": [
    "ex1_dict = load_json(ex1_path)\n",
    "ex1 = get_exercise_results(ex1_dict)"
   ]
  },
  {
   "cell_type": "code",
   "execution_count": 11,
   "metadata": {},
   "outputs": [
    {
     "data": {
      "text/plain": [
       "REGxrT2piXhhm7aj4    <!DOCTYPE html>\\n<!-- INSERT YOUR MARKUP BELOW...\n",
       "cQbQcBnHgWsB72JaP    <!DOCTYPE html>\\n<!-- INSERT YOUR MARKUP BELOW...\n",
       "sY2PHLSsXkPtG4hWy    <!DOCTYPE html>\\n<!-- INSERT YOUR MARKUP BELOW...\n",
       "vrBM9oi4u9kozeFtb    <!DOCTYPE html>\\n<!-- INSERT YOUR MARKUP BELOW...\n",
       "dtype: object"
      ]
     },
     "execution_count": 11,
     "metadata": {},
     "output_type": "execute_result"
    }
   ],
   "source": [
    "ex1"
   ]
  },
  {
   "cell_type": "code",
   "execution_count": 12,
   "metadata": {},
   "outputs": [],
   "source": [
    "# students = json_dict['payload']\n",
    "# for student_id, student_data in students.items():\n",
    "#     print(student_id)"
   ]
  },
  {
   "cell_type": "code",
   "execution_count": 62,
   "metadata": {},
   "outputs": [
    {
     "name": "stdout",
     "output_type": "stream",
     "text": [
      "[0, 0, 0, 0, 0, 0, 0, 0, 0, 0, 0, 0, 0, 0, 0, 0]\n",
      "[0, 0, 0, 0, 1, 1, 1, 0, 0, 0, 0, 0, 1, 1, 1, 1]\n",
      "[0, 0, 0, 0, 1, 1, 1, 1, 1, 1, 1, 1, 1, 1, 1, 1]\n",
      "[1, 1, 1, 1, 1, 1, 1, 1, 1, 1, 1, 1, 1, 1, 1, 1]\n"
     ]
    }
   ],
   "source": [
    "##EX1\n",
    "##test function \n",
    "def testElement(openTag,closeTag,positionOpen,positionClose,indiceList,listElements,score):\n",
    "    #verify exist\n",
    "    if (openTag in listElements):\n",
    "        score[indiceList] = 1\n",
    "    if (closeTag in listElements):\n",
    "        score[indiceList+1] = 1\n",
    "    #verify position\n",
    "    if abs(positionOpen) < len(listElements):\n",
    "        if (listElements[positionOpen] == openTag):\n",
    "            score[indiceList+2] = 1\n",
    "    if abs(positionClose) < len(listElements):\n",
    "        if (listElements[positionClose] == closeTag):\n",
    "            score[indiceList+3] = 1\n",
    "    #remove tag if exist\n",
    "    if (openTag in listElements):  \n",
    "        listElements.remove(openTag)\n",
    "    if (closeTag in listElements):\n",
    "        listElements.remove(closeTag)\n",
    "    return [listElements,score]\n",
    "  \n",
    "    \n",
    "listText = [\"<!DOCTYPE html> <!-- INSERT YOUR MARKUP BELOW --> \",\n",
    "            \"<!DOCTYPE html> <!-- INSERT YOUR MARKUP BELOW --> <head> </head> <body> Hello </body>\",\n",
    "            \"<!DOCTYPE html> <!-- INSERT YOUR MARKUP BELOW --> <head> <title></title> </head> <body> Hello </body>\",\n",
    "            \"<!DOCTYPE html> <!-- INSERT YOUR MARKUP BELOW --> <html><head><title>This is title</title></head><body>Hello world</body></html>\"]\n",
    "\n",
    "def testEx1(number):\n",
    "    listElements = findElements(listText[number])\n",
    "    score = []\n",
    "    for i in range(16):\n",
    "        score.append(0)  \n",
    "    testElement(\"<html>\",\"</html>\",0,-1,0,listElements,score)    \n",
    "    testElement(\"<head>\",\"</head>\",0,3,4,listElements,score) \n",
    "    testElement(\"<title>\",\"</title>\",0,1,8,listElements,score) \n",
    "    testElement(\"<body>\",\"</body>\",0,1,12,listElements,score) \n",
    "    print(score)\n",
    "\n",
    "testEx1(0)\n",
    "testEx1(1)\n",
    "testEx1(2)\n",
    "testEx1(3)"
   ]
  },
  {
   "cell_type": "code",
   "execution_count": 63,
   "metadata": {},
   "outputs": [],
   "source": [
    "###EX2\n",
    "listText = [\"<!DOCTYPE html> <html lang=\\\"en\\\"> <head> <meta charset=\\\"utf-8\\\"> <title>Example</title> </head> <body> <section> <!-- INSERT YOUR MARKUP BELOW --> <h1></h1> <h1></h1> <p></p> <blockquote></blockquote> <p></p> <h2></h2> <p></p> <!-- *** Page Content *** A short history of the Web Where the Web was born Tim Berners-Lee, a British scientist, invented the World Wide Web (WWW) in 1989, while working at CERN. Growing up, Sir Tim was interested in trains and had a model railway in his bedroom. He recalls: “I made some electronic gadgets to control the trains. Then I ended up getting more interested in electronics than trains. Later on, when I was in college I made a computer out of an old television set.” The basic idea of the WWW was to merge the evolving technologies of computers, data networks and hypertext into a powerful and easy to use global information system. How the Web began Tim Berners-Lee wrote the first proposal for the World Wide Web in March 1989 and his second proposal in May 1990. This was formalised as a management proposal in November 1990. This outlined the principal concepts and it defined important terms behind the Web. The document described a \\\"hypertext project\\\" called \\\"WorldWideWeb\\\" in which a \\\"web\\\" of \\\"hypertext documents\\\" could be viewed by “browsers”. By the end of 1990, Tim Berners-Lee had the first Web server and browser up and running at CERN, demonstrating his ideas. He developed the code for his Web server on a NeXT computer. To prevent it being accidentally switched off, the computer had a hand-written label in red ink: \\\"This machine is a server. DO NOT POWER IT DOWN!!\\\" --> </section> </body> </html>\",\n",
    "           \"<!DOCTYPE html> <html lang=\\\"en\\\"> <head> <meta charset=\\\"utf-8\\\"> <title>Example</title> </head> <body> <section> <!-- INSERT YOUR MARKUP BELOW --> <h1> <h2></h2> <p></p> <p></p> <h2></h2> <p></p> <p></p> <!-- *** Page Content *** A short history of the Web Where the Web was born Tim Berners-Lee, a British scientist, invented the World Wide Web (WWW) in 1989, while working at CERN. Growing up, Sir Tim was interested in trains and had a model railway in his bedroom. He recalls: “I made some electronic gadgets to control the trains. Then I ended up getting more interested in electronics than trains. Later on, when I was in college I made a computer out of an old television set.” The basic idea of the WWW was to merge the evolving technologies of computers, data networks and hypertext into a powerful and easy to use global information system. How the Web began Tim Berners-Lee wrote the first proposal for the World Wide Web in March 1989 and his second proposal in May 1990. This was formalised as a management proposal in November 1990. This outlined the principal concepts and it defined important terms behind the Web. The document described a \\\"hypertext project\\\" called \\\"WorldWideWeb\\\" in which a \\\"web\\\" of \\\"hypertext documents\\\" could be viewed by “browsers”. By the end of 1990, Tim Berners-Lee had the first Web server and browser up and running at CERN, demonstrating his ideas. He developed the code for his Web server on a NeXT computer. To prevent it being accidentally switched off, the computer had a hand-written label in red ink: \\\"This machine is a server. DO NOT POWER IT DOWN!!\\\" --> </section> </body> </html>\",\n",
    "            \"<!DOCTYPE html> <html lang=\\\"en\\\"> <head> <meta charset=\\\"utf-8\\\"> <title>Example</title> </head> <body> <section> <!-- INSERT YOUR MARKUP BELOW --> <h1></h1> <h2></h2> <p></p> <blockquote></blockquote> <p></p> <h2></h2> <p></p> <p></p> <!-- *** Page Content *** A short history of the Web Where the Web was born Tim Berners-Lee, a British scientist, invented the World Wide Web (WWW) in 1989, while working at CERN. Growing up, Sir Tim was interested in trains and had a model railway in his bedroom. He recalls: “I made some electronic gadgets to control the trains. Then I ended up getting more interested in electronics than trains. Later on, when I was in college I made a computer out of an old television set.” The basic idea of the WWW was to merge the evolving technologies of computers, data networks and hypertext into a powerful and easy to use global information system. How the Web began Tim Berners-Lee wrote the first proposal for the World Wide Web in March 1989 and his second proposal in May 1990. This was formalised as a management proposal in November 1990. This outlined the principal concepts and it defined important terms behind the Web. The document described a \\\"hypertext project\\\" called \\\"WorldWideWeb\\\" in which a \\\"web\\\" of \\\"hypertext documents\\\" could be viewed by “browsers”. By the end of 1990, Tim Berners-Lee had the first Web server and browser up and running at CERN, demonstrating his ideas. He developed the code for his Web server on a NeXT computer. To prevent it being accidentally switched off, the computer had a hand-written label in red ink: \\\"This machine is a server. DO NOT POWER IT DOWN!!\\\" --> </section> </body> </html>\",\n",
    "           \"<!DOCTYPE html> <html lang=\\\"en\\\"> <head> <meta charset=\\\"utf-8\\\"> <title>Example</title> </head> <body> <section> <!-- INSERT YOUR MARKUP BELOW --> <h1></h1> <h2></h2> <p></p> <p></p> <p></p <h2></h2> <p></p> <!-- *** Page Content *** A short history of the Web Where the Web was born Tim Berners-Lee, a British scientist, invented the World Wide Web (WWW) in 1989, while working at CERN. Growing up, Sir Tim was interested in trains and had a model railway in his bedroom. He recalls: “I made some electronic gadgets to control the trains. Then I ended up getting more interested in electronics than trains. Later on, when I was in college I made a computer out of an old television set.” The basic idea of the WWW was to merge the evolving technologies of computers, data networks and hypertext into a powerful and easy to use global information system. How the Web began Tim Berners-Lee wrote the first proposal for the World Wide Web in March 1989 and his second proposal in May 1990. This was formalised as a management proposal in November 1990. This outlined the principal concepts and it defined important terms behind the Web. The document described a \\\"hypertext project\\\" called \\\"WorldWideWeb\\\" in which a \\\"web\\\" of \\\"hypertext documents\\\" could be viewed by “browsers”. By the end of 1990, Tim Berners-Lee had the first Web server and browser up and running at CERN, demonstrating his ideas. He developed the code for his Web server on a NeXT computer. To prevent it being accidentally switched off, the computer had a hand-written label in red ink: \\\"This machine is a server. DO NOT POWER IT DOWN!!\\\" --> </section> </body> </html>\"]"
   ]
  },
  {
   "cell_type": "code",
   "execution_count": 64,
   "metadata": {},
   "outputs": [
    {
     "name": "stdout",
     "output_type": "stream",
     "text": [
      "[1, 1, 1, 1, 1, 1, 0, 0, 1, 1, 0, 0, 1, 1, 0, 0, 1, 1, 0, 0, 0, 0, 0, 0, 1, 1, 0, 0, 0, 0, 0, 0]\n",
      "[1, 0, 1, 0, 1, 1, 1, 1, 1, 1, 1, 1, 0, 0, 0, 0, 1, 1, 1, 1, 1, 1, 1, 1, 1, 1, 1, 1, 1, 1, 1, 1]\n",
      "[1, 1, 1, 1, 1, 1, 1, 1, 1, 1, 1, 1, 1, 1, 1, 1, 1, 1, 1, 1, 1, 1, 1, 1, 1, 1, 1, 1, 1, 1, 1, 1]\n",
      "[1, 1, 1, 1, 1, 1, 1, 1, 1, 1, 1, 1, 0, 0, 0, 0, 1, 1, 1, 1, 1, 1, 0, 0, 1, 1, 1, 0, 1, 0, 1, 0]\n"
     ]
    }
   ],
   "source": [
    "def removeOldElementsEx1(listElements):\n",
    "    listElements.remove('<html lang=\"en\">')\n",
    "    listElements.remove('<head>')\n",
    "    listElements.remove('<title>')\n",
    "    listElements.remove('</title>')\n",
    "    listElements.remove('</head>')\n",
    "    listElements.remove('<body>')\n",
    "    listElements.remove('<section>')\n",
    "    listElements.remove('</section>')\n",
    "    listElements.remove('</body>')\n",
    "    listElements.remove('</html>')\n",
    "    return listElements\n",
    "\n",
    "def testEx2(number):\n",
    "    listElements = findElements(listText[number])\n",
    "    score = []\n",
    "    for i in range(32):\n",
    "        score.append(0)  \n",
    "    listElements = removeOldElementsEx1(listElements)\n",
    "    testElement(\"<h1>\",\"</h1>\",0,1,0,listElements,score) \n",
    "    testElement(\"<h2>\",\"</h2>\",0,1,4,listElements,score) \n",
    "    testElement(\"<p>\",\"</p>\",0,1,8,listElements,score)\n",
    "    testElement(\"<blockquote>\",\"</blockquote>\",0,1,12,listElements,score) \n",
    "    testElement(\"<p>\",\"</p>\",0,1,16,listElements,score)\n",
    "    testElement(\"<h2>\",\"</h2>\",0,1,20,listElements,score)\n",
    "    testElement(\"<p>\",\"</p>\",0,1,24,listElements,score)\n",
    "    testElement(\"<p>\",\"</p>\",0,1,28,listElements,score)\n",
    "    print(score)\n",
    "\n",
    "testEx2(0)\n",
    "testEx2(1)\n",
    "testEx2(2)\n",
    "testEx2(3)"
   ]
  },
  {
   "cell_type": "code",
   "execution_count": null,
   "metadata": {},
   "outputs": [],
   "source": []
  }
 ],
 "metadata": {
  "kernelspec": {
   "display_name": "Python 3",
   "language": "python",
   "name": "python3"
  },
  "language_info": {
   "codemirror_mode": {
    "name": "ipython",
    "version": 3
   },
   "file_extension": ".py",
   "mimetype": "text/x-python",
   "name": "python",
   "nbconvert_exporter": "python",
   "pygments_lexer": "ipython3",
   "version": "3.7.4"
  }
 },
 "nbformat": 4,
 "nbformat_minor": 4
}
